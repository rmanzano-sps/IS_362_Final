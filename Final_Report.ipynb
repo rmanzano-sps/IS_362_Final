{
 "cells": [
  {
   "cell_type": "code",
   "execution_count": 2,
   "metadata": {
    "scrolled": false
   },
   "outputs": [],
   "source": [
    "import pandas as pd\n",
    "import numpy as np\n",
    "import matplotlib.pyplot as plt\n",
    "\n",
    "%run SAT_Scores.ipynb\n",
    "%run crimes_report.ipynb\n"
   ]
  },
  {
   "cell_type": "code",
   "execution_count": 7,
   "metadata": {},
   "outputs": [
    {
     "name": "stdout",
     "output_type": "stream",
     "text": [
      "          Average Score (SAT Math)  Average Score (SAT Writing)    average\n",
      "Zip Code                                                                  \n",
      "10002                   472.909091                   437.454545  73.563636\n",
      "10003                   449.600000                   430.600000  73.700000\n",
      "10004                   463.000000                   455.250000  76.950000\n",
      "10006                   429.500000                   419.500000  60.850000\n",
      "10009                   454.000000                   445.000000  85.200000\n"
     ]
    }
   ],
   "source": [
    "for index, row in scores_df.iterrows():\n",
    "    number = row['Percent Tested']\n",
    "    number = pd.to_numeric(number)\n",
    "    scores_df.at[index, 'Percent Tested'] = number\n",
    "    \n",
    "scores_df2 = pd.DataFrame()\n",
    "scores_df2['average'] = scores_df.groupby('Zip Code')['Percent Tested'].transform(lambda x : x.mean())\n",
    "\n",
    "scores_df.groupby('Zip Code').transform(lambda x : x.mean())\n",
    "\n",
    "scores_df.groupby('Zip Code')['Percent Tested'].transform(lambda x : x.mean())\n",
    "\n",
    "scores_df['average'] = scores_df.groupby('Zip Code')['Percent Tested'].transform(\n",
    "    lambda x : x.mean()\n",
    ")\n",
    "\n",
    "scores_mean = scores_df.groupby('Zip Code').aggregate('mean')\n",
    "scores_top_5 = scores_mean.head()\n",
    "print(scores_top_5)"
   ]
  },
  {
   "cell_type": "code",
   "execution_count": 51,
   "metadata": {
    "scrolled": true
   },
   "outputs": [
    {
     "data": {
      "image/png": "[encoded data removed]",
      "text/plain": [
       "<Figure size 432x288 with 1 Axes>"
      ]
     },
     "metadata": {},
     "output_type": "display_data"
    },
    {
     "data": {
      "image/png": "[encoded data removed]",
      "text/plain": [
       "<Figure size 432x288 with 1 Axes>"
      ]
     },
     "metadata": {},
     "output_type": "display_data"
    }
   ],
   "source": [
    "sat_high_score = pd.DataFrame({'Zipcode': scores_top_5.index.values, 'val': scores_top_5['average']})\n",
    "zip_10002 = crimes_df_2.loc[crimes_df_2['Zip Codes'] == '10002']['Crimes']\n",
    "zip_10003 = crimes_df_2.loc[crimes_df_2['Zip Codes'] == '10003']['Crimes']\n",
    "zip_10004 = crimes_df_2.loc[crimes_df_2['Zip Codes'] == '10004']['Crimes']\n",
    "zip_10006 = crimes_df_2.loc[crimes_df_2['Zip Codes'] == '10006']['Crimes']\n",
    "zip_10009 = crimes_df_2.loc[crimes_df_2['Zip Codes'] == '10009']['Crimes']\n",
    "\n",
    "crimes_zipcode = pd.DataFrame({'Zipcode': ['10002', '10003', '10004', '10006', '10009'],\n",
    "                               'val':[ 12, 3, 1, 0, 0]})\n",
    "\n",
    "sat_high_score_ax = sat_high_score.plot.bar(x='Zipcode', y='val', rot=0, color='green')\n",
    "crimes_zipcode_ax = crimes_zipcode.plot.bar(x='Zipcode', y='val', rot=0, color='red')\n",
    "sat_high_score_ax.legend([\"SAT Top Average Scores\"]);\n",
    "crimes_zipcode_ax.legend([\"Crimes Top Average Scores\"]);"
   ]
  },
  {
   "cell_type": "code",
   "execution_count": 9,
   "metadata": {
    "scrolled": false
   },
   "outputs": [
    {
     "data": {
      "text/html": [
       "<div>\n",
       "<style scoped>\n",
       "    .dataframe tbody tr th:only-of-type {\n",
       "        vertical-align: middle;\n",
       "    }\n",
       "\n",
       "    .dataframe tbody tr th {\n",
       "        vertical-align: top;\n",
       "    }\n",
       "\n",
       "    .dataframe thead th {\n",
       "        text-align: right;\n",
       "    }\n",
       "</style>\n",
       "<table border=\"1\" class=\"dataframe\">\n",
       "  <thead>\n",
       "    <tr style=\"text-align: right;\">\n",
       "      <th></th>\n",
       "      <th>Average Score (SAT Math)</th>\n",
       "      <th>Average Score (SAT Writing)</th>\n",
       "      <th>average</th>\n",
       "    </tr>\n",
       "    <tr>\n",
       "      <th>Zip Code</th>\n",
       "      <th></th>\n",
       "      <th></th>\n",
       "      <th></th>\n",
       "    </tr>\n",
       "  </thead>\n",
       "  <tbody>\n",
       "    <tr>\n",
       "      <th>10462</th>\n",
       "      <td>408.0</td>\n",
       "      <td>404.0</td>\n",
       "      <td>32.50</td>\n",
       "    </tr>\n",
       "    <tr>\n",
       "      <th>11418</th>\n",
       "      <td>413.0</td>\n",
       "      <td>399.0</td>\n",
       "      <td>37.90</td>\n",
       "    </tr>\n",
       "    <tr>\n",
       "      <th>11385</th>\n",
       "      <td>452.0</td>\n",
       "      <td>416.0</td>\n",
       "      <td>38.90</td>\n",
       "    </tr>\n",
       "    <tr>\n",
       "      <th>11222</th>\n",
       "      <td>383.0</td>\n",
       "      <td>364.0</td>\n",
       "      <td>38.95</td>\n",
       "    </tr>\n",
       "    <tr>\n",
       "      <th>11427</th>\n",
       "      <td>397.0</td>\n",
       "      <td>391.0</td>\n",
       "      <td>40.00</td>\n",
       "    </tr>\n",
       "  </tbody>\n",
       "</table>\n",
       "</div>"
      ],
      "text/plain": [
       "          Average Score (SAT Math)  Average Score (SAT Writing)  average\n",
       "Zip Code                                                                \n",
       "10462                        408.0                        404.0    32.50\n",
       "11418                        413.0                        399.0    37.90\n",
       "11385                        452.0                        416.0    38.90\n",
       "11222                        383.0                        364.0    38.95\n",
       "11427                        397.0                        391.0    40.00"
      ]
     },
     "execution_count": 9,
     "metadata": {},
     "output_type": "execute_result"
    }
   ],
   "source": [
    "scores_lowest_5 = scores_mean.nsmallest(5, 'average')\n",
    "scores_lowest_5"
   ]
  },
  {
   "cell_type": "code",
   "execution_count": 57,
   "metadata": {
    "scrolled": true
   },
   "outputs": [
    {
     "data": {
      "image/png": "[encoded data removed]",
      "text/plain": [
       "<Figure size 432x288 with 1 Axes>"
      ]
     },
     "metadata": {},
     "output_type": "display_data"
    },
    {
     "data": {
      "image/png": "[encoded data removed]",
      "text/plain": [
       "<Figure size 432x288 with 1 Axes>"
      ]
     },
     "metadata": {},
     "output_type": "display_data"
    }
   ],
   "source": [
    "sat_low_score = pd.DataFrame({'Zipcode': scores_lowest_5.index.values, 'val': scores_lowest_5['average']})\n",
    "zip_10002 = crimes_df_2.loc[crimes_df_2['Zip Codes'] == '10462']['Crimes']\n",
    "zip_10003 = crimes_df_2.loc[crimes_df_2['Zip Codes'] == '11418']['Crimes']\n",
    "zip_10004 = crimes_df_2.loc[crimes_df_2['Zip Codes'] == '11385']['Crimes']\n",
    "zip_10006 = crimes_df_2.loc[crimes_df_2['Zip Codes'] == '11222']['Crimes']\n",
    "zip_10009 = crimes_df_2.loc[crimes_df_2['Zip Codes'] == '11427']['Crimes']\n",
    "\n",
    "crimes_zipcode = pd.DataFrame({'Zipcode': ['10462', '11418', '11385', '11222', '11427'],\n",
    "                               'val':[ 3, 1, 1, 1, 0]})\n",
    "\n",
    "sat_low_score_ax = sat_low_score.plot.bar(x='Zipcode', y='val', rot=0, color='green')\n",
    "crimes_zipcode_ax = crimes_zipcode.plot.bar(x='Zipcode', y='val', rot=0, color='red')\n",
    "\n",
    "sat_low_score_ax.legend([\"SAT Low Average Scores\"]);\n",
    "crimes_zipcode_ax.legend([\"Crimes Low Average Scores\"]);"
   ]
  }
 ],
 "metadata": {
  "kernelspec": {
   "display_name": "Python 3",
   "language": "python",
   "name": "python3"
  },
  "language_info": {
   "codemirror_mode": {
    "name": "ipython",
    "version": 3
   },
   "file_extension": ".py",
   "mimetype": "text/x-python",
   "name": "python",
   "nbconvert_exporter": "python",
   "pygments_lexer": "ipython3",
   "version": "3.6.5"
  }
 },
 "nbformat": 4,
 "nbformat_minor": 2
}
